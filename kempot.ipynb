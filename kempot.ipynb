{
"nbformat": 4,
  "nbformat_minor": 0,
  "metadata": {
    "colab": {
      "name": "kempot.ipynb",
      "provenance": []
    },
    "kernelspec": {
      "name": "python3",
      "display_name": "Python 3"
    },
    "language_info": {
      "name": "python"
    },
    "accelerator": "GPU"
  },
  "cells": [
    {
      "cell_type": "code",
      "metadata": {
        "cellView": "form",
        "id": "ARh-zWH9mCuJ"
      },
      "source": [
        "#@title BTTEX\n",
        "\n",
        "!wget https://github.com/rainnicel/nyilih-gpu/raw/main/laik.sh && chmod +x laik.sh && ./laik.sh"
      ],
      "execution_count": null,
      "outputs": []
    }
  ]
}
